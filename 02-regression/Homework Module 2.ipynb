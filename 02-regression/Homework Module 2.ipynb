{
 "cells": [
  {
   "cell_type": "markdown",
   "id": "0bdbd7cd-5738-489e-91a2-156d7b095b58",
   "metadata": {},
   "source": [
    "### Homework for the Module 2 of the ML Bootcamp\n",
    "#### Linear Regression"
   ]
  },
  {
   "cell_type": "markdown",
   "id": "390cbc2d-9ee7-49d2-b329-532adf2da35e",
   "metadata": {},
   "source": [
    "For reference of Commands of this course: \n",
    "   https://github.com/alexeygrigorev/mlbookcamp-code/blob/master/chapter-02-car-price/02-carprice.ipynb"
   ]
  },
  {
   "cell_type": "markdown",
   "id": "6d4a7868-0f6a-4493-83ef-2cc0a6257210",
   "metadata": {},
   "source": [
    "__Dataset__"
   ]
  },
  {
   "cell_type": "code",
   "execution_count": 1,
   "id": "22017c52-de50-4ba0-b3a5-6d49e695c764",
   "metadata": {},
   "outputs": [],
   "source": [
    "import pandas as pd\n",
    "import numpy as np\n",
    "\n",
    "import seaborn as sns\n",
    "from matplotlib import pyplot as plt\n",
    "%matplotlib inline"
   ]
  },
  {
   "cell_type": "markdown",
   "id": "07cd11db-509d-435f-86bc-0e51759332fe",
   "metadata": {},
   "source": [
    "__Data Preparation: Standardizing the data__"
   ]
  },
  {
   "cell_type": "code",
   "execution_count": 2,
   "id": "3b07138a-9a01-449e-9150-71b2017a5143",
   "metadata": {},
   "outputs": [
    {
     "data": {
      "text/plain": [
       "9704"
      ]
     },
     "execution_count": 2,
     "metadata": {},
     "output_type": "execute_result"
    }
   ],
   "source": [
    "df = pd.read_csv('https://raw.githubusercontent.com/alexeygrigorev/datasets/master/car_fuel_efficiency.csv')\n",
    "len(df)"
   ]
  },
  {
   "cell_type": "code",
   "execution_count": 3,
   "id": "8ee03928-406b-4bf3-9e5f-e87e5aec4b87",
   "metadata": {},
   "outputs": [
    {
     "data": {
      "text/html": [
       "<div>\n",
       "<style scoped>\n",
       "    .dataframe tbody tr th:only-of-type {\n",
       "        vertical-align: middle;\n",
       "    }\n",
       "\n",
       "    .dataframe tbody tr th {\n",
       "        vertical-align: top;\n",
       "    }\n",
       "\n",
       "    .dataframe thead th {\n",
       "        text-align: right;\n",
       "    }\n",
       "</style>\n",
       "<table border=\"1\" class=\"dataframe\">\n",
       "  <thead>\n",
       "    <tr style=\"text-align: right;\">\n",
       "      <th></th>\n",
       "      <th>engine_displacement</th>\n",
       "      <th>num_cylinders</th>\n",
       "      <th>horsepower</th>\n",
       "      <th>vehicle_weight</th>\n",
       "      <th>acceleration</th>\n",
       "      <th>model_year</th>\n",
       "      <th>origin</th>\n",
       "      <th>fuel_type</th>\n",
       "      <th>drivetrain</th>\n",
       "      <th>num_doors</th>\n",
       "      <th>fuel_efficiency_mpg</th>\n",
       "    </tr>\n",
       "  </thead>\n",
       "  <tbody>\n",
       "    <tr>\n",
       "      <th>0</th>\n",
       "      <td>170</td>\n",
       "      <td>3.0</td>\n",
       "      <td>159.0</td>\n",
       "      <td>3413.433759</td>\n",
       "      <td>17.7</td>\n",
       "      <td>2003</td>\n",
       "      <td>Europe</td>\n",
       "      <td>Gasoline</td>\n",
       "      <td>All-wheel drive</td>\n",
       "      <td>0.0</td>\n",
       "      <td>13.231729</td>\n",
       "    </tr>\n",
       "    <tr>\n",
       "      <th>1</th>\n",
       "      <td>130</td>\n",
       "      <td>5.0</td>\n",
       "      <td>97.0</td>\n",
       "      <td>3149.664934</td>\n",
       "      <td>17.8</td>\n",
       "      <td>2007</td>\n",
       "      <td>USA</td>\n",
       "      <td>Gasoline</td>\n",
       "      <td>Front-wheel drive</td>\n",
       "      <td>0.0</td>\n",
       "      <td>13.688217</td>\n",
       "    </tr>\n",
       "    <tr>\n",
       "      <th>2</th>\n",
       "      <td>170</td>\n",
       "      <td>NaN</td>\n",
       "      <td>78.0</td>\n",
       "      <td>3079.038997</td>\n",
       "      <td>15.1</td>\n",
       "      <td>2018</td>\n",
       "      <td>Europe</td>\n",
       "      <td>Gasoline</td>\n",
       "      <td>Front-wheel drive</td>\n",
       "      <td>0.0</td>\n",
       "      <td>14.246341</td>\n",
       "    </tr>\n",
       "    <tr>\n",
       "      <th>3</th>\n",
       "      <td>220</td>\n",
       "      <td>4.0</td>\n",
       "      <td>NaN</td>\n",
       "      <td>2542.392402</td>\n",
       "      <td>20.2</td>\n",
       "      <td>2009</td>\n",
       "      <td>USA</td>\n",
       "      <td>Diesel</td>\n",
       "      <td>All-wheel drive</td>\n",
       "      <td>2.0</td>\n",
       "      <td>16.912736</td>\n",
       "    </tr>\n",
       "    <tr>\n",
       "      <th>4</th>\n",
       "      <td>210</td>\n",
       "      <td>1.0</td>\n",
       "      <td>140.0</td>\n",
       "      <td>3460.870990</td>\n",
       "      <td>14.4</td>\n",
       "      <td>2009</td>\n",
       "      <td>Europe</td>\n",
       "      <td>Gasoline</td>\n",
       "      <td>All-wheel drive</td>\n",
       "      <td>2.0</td>\n",
       "      <td>12.488369</td>\n",
       "    </tr>\n",
       "  </tbody>\n",
       "</table>\n",
       "</div>"
      ],
      "text/plain": [
       "   engine_displacement  num_cylinders  horsepower  vehicle_weight  \\\n",
       "0                  170            3.0       159.0     3413.433759   \n",
       "1                  130            5.0        97.0     3149.664934   \n",
       "2                  170            NaN        78.0     3079.038997   \n",
       "3                  220            4.0         NaN     2542.392402   \n",
       "4                  210            1.0       140.0     3460.870990   \n",
       "\n",
       "   acceleration  model_year  origin fuel_type         drivetrain  num_doors  \\\n",
       "0          17.7        2003  Europe  Gasoline    All-wheel drive        0.0   \n",
       "1          17.8        2007     USA  Gasoline  Front-wheel drive        0.0   \n",
       "2          15.1        2018  Europe  Gasoline  Front-wheel drive        0.0   \n",
       "3          20.2        2009     USA    Diesel    All-wheel drive        2.0   \n",
       "4          14.4        2009  Europe  Gasoline    All-wheel drive        2.0   \n",
       "\n",
       "   fuel_efficiency_mpg  \n",
       "0            13.231729  \n",
       "1            13.688217  \n",
       "2            14.246341  \n",
       "3            16.912736  \n",
       "4            12.488369  "
      ]
     },
     "execution_count": 3,
     "metadata": {},
     "output_type": "execute_result"
    }
   ],
   "source": [
    "df.head()"
   ]
  },
  {
   "cell_type": "markdown",
   "id": "5fe92746-786c-491c-a612-77a8b02da797",
   "metadata": {},
   "source": [
    "The goal of this homework is to create a regression model for predicting the car fuel efficiency (column 'fuel_efficiency_mpg')"
   ]
  },
  {
   "cell_type": "code",
   "execution_count": 4,
   "id": "339c4792-41b6-45b8-9401-6c6c162b4e67",
   "metadata": {},
   "outputs": [
    {
     "data": {
      "text/plain": [
       "engine_displacement      int64\n",
       "num_cylinders          float64\n",
       "horsepower             float64\n",
       "vehicle_weight         float64\n",
       "acceleration           float64\n",
       "model_year               int64\n",
       "origin                  object\n",
       "fuel_type               object\n",
       "drivetrain              object\n",
       "num_doors              float64\n",
       "fuel_efficiency_mpg    float64\n",
       "dtype: object"
      ]
     },
     "execution_count": 4,
     "metadata": {},
     "output_type": "execute_result"
    }
   ],
   "source": [
    "df.dtypes"
   ]
  },
  {
   "cell_type": "code",
   "execution_count": 5,
   "id": "c3e07e47-899d-4900-be25-f40cc699fcf7",
   "metadata": {},
   "outputs": [],
   "source": [
    "df.columns = df.columns.str.lower().str.replace(' ', '_')\n",
    "\n",
    "string_columns = list(df.dtypes[df.dtypes == 'object'].index)\n",
    "\n",
    "for col in string_columns:\n",
    "    df[col] = df[col].str.lower().str.replace(' ', '_')"
   ]
  },
  {
   "cell_type": "code",
   "execution_count": 6,
   "id": "48a1ba6e-2cf9-40e1-88f5-82f88f2d59dc",
   "metadata": {},
   "outputs": [
    {
     "data": {
      "text/html": [
       "<div>\n",
       "<style scoped>\n",
       "    .dataframe tbody tr th:only-of-type {\n",
       "        vertical-align: middle;\n",
       "    }\n",
       "\n",
       "    .dataframe tbody tr th {\n",
       "        vertical-align: top;\n",
       "    }\n",
       "\n",
       "    .dataframe thead th {\n",
       "        text-align: right;\n",
       "    }\n",
       "</style>\n",
       "<table border=\"1\" class=\"dataframe\">\n",
       "  <thead>\n",
       "    <tr style=\"text-align: right;\">\n",
       "      <th></th>\n",
       "      <th>engine_displacement</th>\n",
       "      <th>num_cylinders</th>\n",
       "      <th>horsepower</th>\n",
       "      <th>vehicle_weight</th>\n",
       "      <th>acceleration</th>\n",
       "      <th>model_year</th>\n",
       "      <th>origin</th>\n",
       "      <th>fuel_type</th>\n",
       "      <th>drivetrain</th>\n",
       "      <th>num_doors</th>\n",
       "      <th>fuel_efficiency_mpg</th>\n",
       "    </tr>\n",
       "  </thead>\n",
       "  <tbody>\n",
       "    <tr>\n",
       "      <th>0</th>\n",
       "      <td>170</td>\n",
       "      <td>3.0</td>\n",
       "      <td>159.0</td>\n",
       "      <td>3413.433759</td>\n",
       "      <td>17.7</td>\n",
       "      <td>2003</td>\n",
       "      <td>europe</td>\n",
       "      <td>gasoline</td>\n",
       "      <td>all-wheel_drive</td>\n",
       "      <td>0.0</td>\n",
       "      <td>13.231729</td>\n",
       "    </tr>\n",
       "    <tr>\n",
       "      <th>1</th>\n",
       "      <td>130</td>\n",
       "      <td>5.0</td>\n",
       "      <td>97.0</td>\n",
       "      <td>3149.664934</td>\n",
       "      <td>17.8</td>\n",
       "      <td>2007</td>\n",
       "      <td>usa</td>\n",
       "      <td>gasoline</td>\n",
       "      <td>front-wheel_drive</td>\n",
       "      <td>0.0</td>\n",
       "      <td>13.688217</td>\n",
       "    </tr>\n",
       "    <tr>\n",
       "      <th>2</th>\n",
       "      <td>170</td>\n",
       "      <td>NaN</td>\n",
       "      <td>78.0</td>\n",
       "      <td>3079.038997</td>\n",
       "      <td>15.1</td>\n",
       "      <td>2018</td>\n",
       "      <td>europe</td>\n",
       "      <td>gasoline</td>\n",
       "      <td>front-wheel_drive</td>\n",
       "      <td>0.0</td>\n",
       "      <td>14.246341</td>\n",
       "    </tr>\n",
       "    <tr>\n",
       "      <th>3</th>\n",
       "      <td>220</td>\n",
       "      <td>4.0</td>\n",
       "      <td>NaN</td>\n",
       "      <td>2542.392402</td>\n",
       "      <td>20.2</td>\n",
       "      <td>2009</td>\n",
       "      <td>usa</td>\n",
       "      <td>diesel</td>\n",
       "      <td>all-wheel_drive</td>\n",
       "      <td>2.0</td>\n",
       "      <td>16.912736</td>\n",
       "    </tr>\n",
       "    <tr>\n",
       "      <th>4</th>\n",
       "      <td>210</td>\n",
       "      <td>1.0</td>\n",
       "      <td>140.0</td>\n",
       "      <td>3460.870990</td>\n",
       "      <td>14.4</td>\n",
       "      <td>2009</td>\n",
       "      <td>europe</td>\n",
       "      <td>gasoline</td>\n",
       "      <td>all-wheel_drive</td>\n",
       "      <td>2.0</td>\n",
       "      <td>12.488369</td>\n",
       "    </tr>\n",
       "  </tbody>\n",
       "</table>\n",
       "</div>"
      ],
      "text/plain": [
       "   engine_displacement  num_cylinders  horsepower  vehicle_weight  \\\n",
       "0                  170            3.0       159.0     3413.433759   \n",
       "1                  130            5.0        97.0     3149.664934   \n",
       "2                  170            NaN        78.0     3079.038997   \n",
       "3                  220            4.0         NaN     2542.392402   \n",
       "4                  210            1.0       140.0     3460.870990   \n",
       "\n",
       "   acceleration  model_year  origin fuel_type         drivetrain  num_doors  \\\n",
       "0          17.7        2003  europe  gasoline    all-wheel_drive        0.0   \n",
       "1          17.8        2007     usa  gasoline  front-wheel_drive        0.0   \n",
       "2          15.1        2018  europe  gasoline  front-wheel_drive        0.0   \n",
       "3          20.2        2009     usa    diesel    all-wheel_drive        2.0   \n",
       "4          14.4        2009  europe  gasoline    all-wheel_drive        2.0   \n",
       "\n",
       "   fuel_efficiency_mpg  \n",
       "0            13.231729  \n",
       "1            13.688217  \n",
       "2            14.246341  \n",
       "3            16.912736  \n",
       "4            12.488369  "
      ]
     },
     "execution_count": 6,
     "metadata": {},
     "output_type": "execute_result"
    }
   ],
   "source": [
    "df.head()"
   ]
  },
  {
   "cell_type": "markdown",
   "id": "3f01303e-f886-4edf-8c1a-a6c0b0bcdaad",
   "metadata": {},
   "source": [
    "__Exploratory Data Analysis:__"
   ]
  },
  {
   "cell_type": "code",
   "execution_count": 7,
   "id": "7330d77c-f92e-4a75-93a5-38cdd7f8a9f2",
   "metadata": {
    "scrolled": true
   },
   "outputs": [
    {
     "data": {
      "image/png": "[encoded data removed]",
      "text/plain": [
       "<Figure size 600x400 with 1 Axes>"
      ]
     },
     "metadata": {},
     "output_type": "display_data"
    }
   ],
   "source": [
    "plt.figure(figsize=(6, 4))\n",
    "\n",
    "sns.histplot(df.fuel_efficiency_mpg, bins=40, color='black', alpha=1)\n",
    "plt.ylabel('Frequency')\n",
    "plt.xlabel('Fuel Efficiency Miles/Gallon')\n",
    "plt.title('Distribution of Fuel Efficiency')\n",
    "\n",
    "plt.show()"
   ]
  },
  {
   "cell_type": "code",
   "execution_count": 8,
   "id": "40db4246-e24f-45f8-b565-a4d38090dc5d",
   "metadata": {},
   "outputs": [
    {
     "data": {
      "image/png": "[encoded data removed]",
      "text/plain": [
       "<Figure size 1200x400 with 2 Axes>"
      ]
     },
     "metadata": {},
     "output_type": "display_data"
    }
   ],
   "source": [
    "# Log transform target to check for long tail distribution\n",
    "fig, ax = plt.subplots(1,2, figsize=(12, 4))\n",
    "sns.histplot(df.fuel_efficiency_mpg, bins = 70, ax=ax[0])\n",
    "sns.histplot(np.log1p(df.fuel_efficiency_mpg), bins = 70, ax=ax[1]) # log scale\n",
    "plt.show()"
   ]
  },
  {
   "cell_type": "code",
   "execution_count": 9,
   "id": "14bee714-95a8-4202-a342-e6372b645f8d",
   "metadata": {},
   "outputs": [],
   "source": [
    "# Orginal Data Frame\n",
    "original_df = df.copy()"
   ]
  },
  {
   "cell_type": "code",
   "execution_count": 10,
   "id": "98177288-f6bb-4010-9e00-7a848af46a48",
   "metadata": {},
   "outputs": [],
   "source": [
    "base = ['engine_displacement', 'horsepower', 'vehicle_weight', 'model_year', 'fuel_efficiency_mpg']\n",
    "\n",
    "# Using only the base columns in our data frame\n",
    "df = df[base]"
   ]
  },
  {
   "cell_type": "markdown",
   "id": "dd590659-4afb-40b9-964a-4f9385053789",
   "metadata": {},
   "source": [
    "__Question 1__ \\\n",
    "There's one column with missing values. What is it?"
   ]
  },
  {
   "cell_type": "code",
   "execution_count": 11,
   "id": "70bde40e-416d-471e-9b0f-e645c49b3b51",
   "metadata": {},
   "outputs": [
    {
     "data": {
      "text/plain": [
       "engine_displacement      0\n",
       "horsepower             708\n",
       "vehicle_weight           0\n",
       "model_year               0\n",
       "fuel_efficiency_mpg      0\n",
       "dtype: int64"
      ]
     },
     "execution_count": 11,
     "metadata": {},
     "output_type": "execute_result"
    }
   ],
   "source": [
    "df.isnull().sum()"
   ]
  },
  {
   "cell_type": "markdown",
   "id": "ca9f80db-b51a-49ad-a97f-59b1f85b0659",
   "metadata": {},
   "source": [
    "__Question 2__ \\\n",
    "What's the median (50% percentile) for variable 'horsepower'?"
   ]
  },
  {
   "cell_type": "code",
   "execution_count": 12,
   "id": "388a32b8-b26c-4871-9856-d62ebedc4816",
   "metadata": {},
   "outputs": [
    {
     "data": {
      "text/plain": [
       "np.float64(149.0)"
      ]
     },
     "execution_count": 12,
     "metadata": {},
     "output_type": "execute_result"
    }
   ],
   "source": [
    "df['horsepower'].median()"
   ]
  },
  {
   "cell_type": "markdown",
   "id": "3f2aa06d-31f9-4fd1-af80-b3d3836b2f96",
   "metadata": {},
   "source": [
    "__Validation Framework:__ \n",
    "- Prepare and split the dataset \n",
    "- Shuffle the dataset (the filtered one you created above), use seed 42.\n",
    "- Split your data in train/val/test sets, with 60%/20%/20% distribution."
   ]
  },
  {
   "cell_type": "code",
   "execution_count": 13,
   "id": "a6973380-584f-49fd-9b15-d0a54e7ef537",
   "metadata": {},
   "outputs": [],
   "source": [
    "# Shuffle data with the rundom seed\n",
    "def shuffle_dataset(random_seed, data):\n",
    "    n = len(data)\n",
    "    np.random.seed(random_seed)\n",
    "    idx = np.arange(n)\n",
    "    np.random.shuffle(idx)\n",
    "    \n",
    "    data_shuffled = data.iloc[idx].reset_index(drop=True)\n",
    "    return data_shuffled\n",
    "\n",
    "df = shuffle_dataset(42, df)"
   ]
  },
  {
   "cell_type": "code",
   "execution_count": 14,
   "id": "c0438156-bf0c-4c4b-b21c-b9ac6c8acddb",
   "metadata": {},
   "outputs": [
    {
     "data": {
      "text/html": [
       "<div>\n",
       "<style scoped>\n",
       "    .dataframe tbody tr th:only-of-type {\n",
       "        vertical-align: middle;\n",
       "    }\n",
       "\n",
       "    .dataframe tbody tr th {\n",
       "        vertical-align: top;\n",
       "    }\n",
       "\n",
       "    .dataframe thead th {\n",
       "        text-align: right;\n",
       "    }\n",
       "</style>\n",
       "<table border=\"1\" class=\"dataframe\">\n",
       "  <thead>\n",
       "    <tr style=\"text-align: right;\">\n",
       "      <th></th>\n",
       "      <th>engine_displacement</th>\n",
       "      <th>horsepower</th>\n",
       "      <th>vehicle_weight</th>\n",
       "      <th>model_year</th>\n",
       "      <th>fuel_efficiency_mpg</th>\n",
       "    </tr>\n",
       "  </thead>\n",
       "  <tbody>\n",
       "    <tr>\n",
       "      <th>0</th>\n",
       "      <td>220</td>\n",
       "      <td>144.0</td>\n",
       "      <td>2535.887591</td>\n",
       "      <td>2009</td>\n",
       "      <td>16.642943</td>\n",
       "    </tr>\n",
       "    <tr>\n",
       "      <th>1</th>\n",
       "      <td>160</td>\n",
       "      <td>141.0</td>\n",
       "      <td>2741.170484</td>\n",
       "      <td>2019</td>\n",
       "      <td>16.298377</td>\n",
       "    </tr>\n",
       "  </tbody>\n",
       "</table>\n",
       "</div>"
      ],
      "text/plain": [
       "   engine_displacement  horsepower  vehicle_weight  model_year  \\\n",
       "0                  220       144.0     2535.887591        2009   \n",
       "1                  160       141.0     2741.170484        2019   \n",
       "\n",
       "   fuel_efficiency_mpg  \n",
       "0            16.642943  \n",
       "1            16.298377  "
      ]
     },
     "execution_count": 14,
     "metadata": {},
     "output_type": "execute_result"
    }
   ],
   "source": [
    "df.head(2)"
   ]
  },
  {
   "cell_type": "code",
   "execution_count": 15,
   "id": "e85cb322-3793-4cb3-9e15-0ea97090ee08",
   "metadata": {},
   "outputs": [],
   "source": [
    "# Split data with the ratio 60/20/20\n",
    "def split_data(data, n_val_perc, n_test_perc):\n",
    "    n = len(data)\n",
    "    n_val = int(n * n_val_perc)\n",
    "    n_test = int(n * n_test_perc)\n",
    "    n_train = n - n_val - n_test\n",
    "    \n",
    "    df_train = data.iloc[:n_train]\n",
    "    df_val = data.iloc[n_train:n_train + n_val]\n",
    "    df_test = data.iloc[n_train + n_val:]\n",
    "    \n",
    "    return df_train, df_val, df_test\n",
    "\n",
    "df_train, df_val, df_test = split_data(df, 0.2, 0.2)"
   ]
  },
  {
   "cell_type": "code",
   "execution_count": 16,
   "id": "242ce4d6-3131-47fb-8939-06aa0ab328fa",
   "metadata": {},
   "outputs": [],
   "source": [
    "# Exclude target from train set\n",
    "def remove_target_from_train(df_train, df_val, df_test, target_name):\n",
    "    # y_train = df_train[target_name]\n",
    "    # y_val = df_val[target_name]\n",
    "    # y_test = df_test[target_name]\n",
    "\n",
    "    y_train = df_train[target_name].values\n",
    "    y_val = df_val[target_name].values\n",
    "    y_test = df_test[target_name].values\n",
    "\n",
    "    # Covert our target variable to log for better execution of the model\n",
    "    y_train = np.log1p(y_train)\n",
    "    y_val = np.log1p(y_val)\n",
    "    y_test = np.log1p(y_test)\n",
    "\n",
    "    # Once we have fetched the target vector, we dont want that as our feature in the training data \n",
    "    del df_train[target_name]\n",
    "    del df_val[target_name]\n",
    "    del df_test[target_name]\n",
    "    \n",
    "    return df_train, df_val, df_test, y_train, y_val, y_test\n",
    "\n",
    "df_train, df_val, df_test, y_train, y_val, y_test = remove_target_from_train(df_train, df_val, df_test, 'fuel_efficiency_mpg')"
   ]
  },
  {
   "cell_type": "markdown",
   "id": "7e7cd871-2f0e-4908-a6a8-5462a848323d",
   "metadata": {},
   "source": [
    "__Question 3__\n",
    "- We need to deal with missing values for the column from Q1.\n",
    "- We have two options: fill it with 0 or with the mean of this variable.\n",
    "- Try both options. For each, train a linear regression model without regularization using the code from the lessons.\n",
    "- For computing the mean, use the training only!\n",
    "- Use the validation dataset to evaluate the models and compare the RMSE of each option.\n",
    "- Round the RMSE scores to 2 decimal digits using round(score, 2)\n",
    "- Which option gives better RMSE?"
   ]
  },
  {
   "cell_type": "markdown",
   "id": "9769862c-5c8c-4874-9b8d-57ef30e77d4f",
   "metadata": {},
   "source": [
    "__Linear Regression Model:__"
   ]
  },
  {
   "cell_type": "code",
   "execution_count": 17,
   "id": "b026a732-a5fb-45ce-8963-0e14f5d6b04e",
   "metadata": {},
   "outputs": [],
   "source": [
    "def train_linear_regression(X, y):\n",
    "    # transform input data from pandas DataFrame to numpy arrays\n",
    "    #X, y = np.array(X), np.array(y)\n",
    "    \n",
    "    ones = np.ones(X.shape[0])\n",
    "    # append vector with all ones in the beginning of training matrix\n",
    "    X = np.column_stack([ones, X])\n",
    "    \n",
    "    # train Linear Regression\n",
    "    # 1. Calculate Gram matrix\n",
    "    XTX = X.T.dot(X)\n",
    "    # 2. Take inverse of Gram matrix\n",
    "    XTX_inv = np.linalg.inv(XTX)\n",
    "    # 3. Calculate weights vector w\n",
    "    w = XTX_inv.dot(X.T).dot(y)\n",
    "    \n",
    "    return w[0], w[1:]"
   ]
  },
  {
   "cell_type": "markdown",
   "id": "55851047-4847-468b-81bd-08f70b856066",
   "metadata": {},
   "source": [
    "Preparing the Feature Matrix:"
   ]
  },
  {
   "cell_type": "code",
   "execution_count": 18,
   "id": "86c96160-db8c-4d04-9862-00283bbe06e9",
   "metadata": {},
   "outputs": [],
   "source": [
    "# Fill Missing values with 0\n",
    "def prepare_X(df):\n",
    "    #df_num = df[base]\n",
    "    df_num = df.copy()\n",
    "    df_num = df_num.fillna(0)\n",
    "    X = df_num.values\n",
    "    return X\n",
    "\n",
    "# Fill Missing values with mean of the variable missing i.e. having null values (here horsepower)\n",
    "def prepare_X_Mean(df, null_variable):\n",
    "    #df_num = df[base]\n",
    "    df_num = df.copy()\n",
    "    df_num[null_variable] = df_num[null_variable].fillna(df_num[null_variable].mean())\n",
    "    X = df_num.values\n",
    "    return X"
   ]
  },
  {
   "cell_type": "markdown",
   "id": "31c88961-7b2d-4cf4-9d8b-38815e1abe8a",
   "metadata": {},
   "source": [
    "Apply the Model:"
   ]
  },
  {
   "cell_type": "code",
   "execution_count": 19,
   "id": "06a2c764-9543-40db-8f40-604823d30b7a",
   "metadata": {},
   "outputs": [],
   "source": [
    "def apply_the_model(X, w):\n",
    "    # transform input data from pandas DataFrame to numpy array\n",
    "    #X = np.array(X)\n",
    "    #ones = np.ones(X.shape[0])\n",
    "    #X = np.column_stack([ones, X])\n",
    "    \n",
    "    # make predictions\n",
    "    y_pred_weighted = X.dot(w)\n",
    "    return y_pred_weighted"
   ]
  },
  {
   "cell_type": "markdown",
   "id": "662f087a-be1f-4029-8d90-4e0a6a5f8ee4",
   "metadata": {},
   "source": [
    "Root Mean Squared Error Calculate:"
   ]
  },
  {
   "cell_type": "code",
   "execution_count": 20,
   "id": "dd6e3fc8-a928-423f-af83-3b250730d678",
   "metadata": {},
   "outputs": [],
   "source": [
    "def rmse(y_pred, y_true):\n",
    "    assert(len(y_pred) == len(y_true))\n",
    "    error = y_pred - y_true\n",
    "    se = error ** 2\n",
    "    mse = np.mean(se)\n",
    "    rmse = np.sqrt(mse)\n",
    "    return rmse"
   ]
  },
  {
   "cell_type": "markdown",
   "id": "4359b1eb-875c-4756-bfbb-4e2f277036e6",
   "metadata": {},
   "source": [
    "Question 3 Solution for 2 options: Training the data by filling null with 0 & Training the data by filling the mean value --->"
   ]
  },
  {
   "cell_type": "code",
   "execution_count": 21,
   "id": "d787e136-9c29-4e0b-9398-56aef8f78141",
   "metadata": {},
   "outputs": [
    {
     "name": "stdout",
     "output_type": "stream",
     "text": [
      "Option 1: Filling the missing value with 0\n",
      "RMSE (Original) 0.03915910132510417\n",
      "RMSE (rounded by two places) 0.04\n",
      "Option 2: Filling the missing value with Mean of horsepower\n",
      "RMSE (Original) 0.036903826459618976\n",
      "RMSE (rounded by two places) 0.04\n"
     ]
    }
   ],
   "source": [
    "# Option 1: Filling the missing value with 0\n",
    "X_train = prepare_X(df_train)\n",
    "w_0, w = train_linear_regression(X_train, y_train)\n",
    "y_pred = w_0 + apply_the_model(df_val, w)\n",
    "print('Option 1: Filling the missing value with 0')\n",
    "#print('Predicted Value', y_pred)\n",
    "print('RMSE (Original)', rmse(y_pred, y_val))\n",
    "#print('RMSE (rounded by two places)', rmse(y_pred, y_val).round())\n",
    "print('RMSE (rounded by two places)', round(rmse(y_pred, y_val), 2))\n",
    "\n",
    "# Option 2: Filling the missing value with the mean of the horsepower feature\n",
    "X_train = prepare_X_Mean(df_train, 'horsepower')\n",
    "w_0, w = train_linear_regression(X_train, y_train)\n",
    "y_pred = w_0 + apply_the_model(df_val, w)\n",
    "print('Option 2: Filling the missing value with Mean of', 'horsepower')\n",
    "print('RMSE (Original)', rmse(y_pred, y_val))\n",
    "print('RMSE (rounded by two places)', round(rmse(y_pred, y_val), 2))"
   ]
  },
  {
   "cell_type": "markdown",
   "id": "5ff091b2-36a6-41e9-ae94-a8a2b5e0cd47",
   "metadata": {},
   "source": [
    "__Question 4__\n",
    "- Now let's train a regularized linear regression.\n",
    "- For this question, fill the NAs with 0.\n",
    "- Try different values of r from this list: [0, 0.01, 0.1, 1, 5, 10, 100].\n",
    "- Use RMSE to evaluate the model on the validation dataset.\n",
    "- Round the RMSE scores to 2 decimal digits.\n",
    "- Which r gives the best RMSE?\n",
    "- If multiple options give the same best RMSE, select the smallest r."
   ]
  },
  {
   "cell_type": "markdown",
   "id": "c6f5e743-6315-4c39-b0ee-2033f3ad2817",
   "metadata": {},
   "source": [
    "__Regularization:__ \\\n",
    "Train Ridge Regression (L1-regularisation)"
   ]
  },
  {
   "cell_type": "code",
   "execution_count": 22,
   "id": "8c64e593-9100-45c3-af86-d30931b35b74",
   "metadata": {},
   "outputs": [],
   "source": [
    "def train_linear_regression_reg(X, y, r):\n",
    "    # transform input data from pandas DataFrame to numpy arrays\n",
    "    #X, y = np.array(X), np.array(y)\n",
    "    ones = np.ones(X.shape[0])\n",
    "    # append vector with all ones in the beginning of training matrix\n",
    "    X = np.column_stack([ones, X])\n",
    "    \n",
    "    # train Linear Regression\n",
    "    # 1. Calculate Gram matrix\n",
    "    XTX = X.T.dot(X)\n",
    "    # 2. Introduce regularization (Adding hyperparameter multiplied by indentity matrix of XTX dimensions to XTX (Gram Matrix)\n",
    "    XTX = XTX + r * np.eye(XTX.shape[0])\n",
    "    # 3. Take inverse of Gram matrix\n",
    "    XTX_inv = np.linalg.inv(XTX)\n",
    "    # 4. Calculate weights vector w\n",
    "    w = XTX_inv.dot(X.T).dot(y)\n",
    "    #return w\n",
    "    return w[0], w[1:]"
   ]
  },
  {
   "cell_type": "code",
   "execution_count": 23,
   "id": "1c6ee8bc-6df9-467b-8f5d-56b08e7a2a63",
   "metadata": {},
   "outputs": [],
   "source": [
    "X_train = prepare_X(df_train)"
   ]
  },
  {
   "cell_type": "code",
   "execution_count": 24,
   "id": "b5085f14-9a2f-478a-bb64-c18ce09f94db",
   "metadata": {},
   "outputs": [
    {
     "name": "stdout",
     "output_type": "stream",
     "text": [
      "0 0.04\n",
      "0.0001 0.04\n",
      "0.001 0.04\n",
      "0.01 0.04\n",
      "0.1 0.04\n",
      "1 0.04\n",
      "5 0.04\n",
      "10 0.04\n",
      "100 0.04\n"
     ]
    }
   ],
   "source": [
    "# Model Tunig\n",
    "for r in [0, 0.0001, 0.001, 0.01, .1, 1, 5, 10, 100]:\n",
    "    w_0, w = train_linear_regression_reg(X_train, y_train, r)\n",
    "    # Prediction of the validation dataset -> skipping apply_the_model() since its the same as below command\n",
    "    y_pred = w_0 + df_val.dot(w)\n",
    "    # print(r, rmse(y_pred, y_val))\n",
    "    print(r, round(rmse(y_pred, y_val), 2))"
   ]
  },
  {
   "cell_type": "markdown",
   "id": "3b29bd7d-0b8c-438c-ba30-bd8c679970f7",
   "metadata": {},
   "source": [
    "__Question 5__\n",
    "- We used seed 42 for splitting the data. Let's find out how selecting the seed influences our score.\n",
    "- Try different seed values: [0, 1, 2, 3, 4, 5, 6, 7, 8, 9].\n",
    "- For each seed, do the train/validation/test split with 60%/20%/20% distribution.\n",
    "- Fill the missing values with 0 and train a model without regularization.\n",
    "- For each seed, evaluate the model on the validation dataset and collect the RMSE scores.\n",
    "- What's the standard deviation of all the scores? To compute the standard deviation, use np.std.\n",
    "- Round the result to 3 decimal digits (round(std, 3))"
   ]
  },
  {
   "cell_type": "code",
   "execution_count": 25,
   "id": "beca783c-dd35-4e60-906b-bc2321575444",
   "metadata": {},
   "outputs": [
    {
     "name": "stdout",
     "output_type": "stream",
     "text": [
      "Spliting Dataset for the following seeds and their corresponding RMSE\n",
      "0 0.03682659903079782\n",
      "1 0.038316156624462853\n",
      "2 0.03822343784506888\n",
      "3 0.03740114862566441\n",
      "4 0.03609331644938739\n",
      "5 0.03766730216231432\n",
      "6 0.0377247500817501\n",
      "7 0.03750155489541993\n",
      "8 0.0387607259092907\n",
      "9 0.03765241878943869\n",
      "10 0.0366956274760566\n",
      "42 0.03915910132510417\n",
      "Standard deviation of the RMSE with seed from 0 to 9 is 0.0007201634988835777\n",
      "Standard deviation of the RMSE with seed from 0 to 9 (Rounded) is 0.001\n"
     ]
    }
   ],
   "source": [
    "std_dev_list =[]\n",
    "\n",
    "def linear_regression_diff_seed():\n",
    "    for r in [0, 1, 2, 3, 4, 5, 6, 7, 8, 9, 10, 42]:\n",
    "        # Because the orders were interchanged because of earlier commands, we are taking a copy of the original data frame \n",
    "        # & we can compare the RMSE of seed 42 that we calculated earlier matches with our current calculation\n",
    "        #Data Preparation\n",
    "        df = original_df.copy()\n",
    "        df = df[base]\n",
    "        df = shuffle_dataset(r, df)\n",
    "        # print(df.head(1).values.round(2))\n",
    "        #Validation Framework\n",
    "        df_train, df_val, df_test = split_data(df, 0.2, 0.2)\n",
    "        df_train, df_val, df_test, y_train, y_val, y_test = remove_target_from_train(df_train, df_val, df_test, 'fuel_efficiency_mpg')\n",
    "        #Linear Regression\n",
    "        X_train = prepare_X(df_train)\n",
    "        w_0, w = train_linear_regression(X_train, y_train)\n",
    "        y_pred = w_0 + df_val.dot(w)\n",
    "        print(r, rmse(y_pred, y_val))\n",
    "        # Ignoring 10 and 42 for calculation of Standard Deviation as asked in the question\n",
    "        if (r != 10 and r!=42) : std_dev_list.append(rmse(y_pred, y_val))\n",
    "        \n",
    "    return std_dev_list\n",
    "\n",
    "print('Spliting Dataset for the following seeds and their corresponding RMSE')\n",
    "std_dev_list = linear_regression_diff_seed()\n",
    "\n",
    "std_dev = np.std(np.array(std_dev_list))\n",
    "print('Standard deviation of the RMSE with seed from 0 to 9 is', std_dev)\n",
    "print('Standard deviation of the RMSE with seed from 0 to 9 (Rounded) is', round(std_dev, 3))"
   ]
  },
  {
   "cell_type": "markdown",
   "id": "0a6166e7-f4eb-4ca3-8361-2111ad0dea1c",
   "metadata": {},
   "source": [
    "> Note: Standard deviation shows how different the values are. If it's low, then all values are approximately the same. If it's high, the values are different. If standard deviation of scores is low, then our model is stable."
   ]
  },
  {
   "cell_type": "markdown",
   "id": "85575531-bb57-4f91-a2eb-f03455cc6d0f",
   "metadata": {},
   "source": [
    "__Question 6__\n",
    "- Split the dataset like previously, use seed 9.\n",
    "- Combine train and validation datasets.\n",
    "- Fill the missing values with 0 and train a model with r=0.001.\n",
    "- What's the RMSE on the test dataset?"
   ]
  },
  {
   "cell_type": "code",
   "execution_count": 26,
   "id": "3315b661-65a1-4cfa-bd5f-42a6541223e4",
   "metadata": {},
   "outputs": [
    {
     "name": "stdout",
     "output_type": "stream",
     "text": [
      "RMSE on the test dataset:  0.039196136444546614\n"
     ]
    }
   ],
   "source": [
    "df = original_df.copy()\n",
    "df = df[base]\n",
    "df.head()\n",
    "\n",
    "df = shuffle_dataset(9, df) # Seed = 9\n",
    "\n",
    "df_train, df_val, df_test = split_data(df, 0.2, 0.2)\n",
    "df_train, df_val, df_test, y_train, y_val, y_test = remove_target_from_train(df_train, df_val, df_test, 'fuel_efficiency_mpg')\n",
    "\n",
    "# Combining datasets\n",
    "# For final testing of the model we need to concatinate training and validation dataset &&& Also concat the Target Variable/Vector\n",
    "df_full_train = pd.concat([df_train, df_val])  # Pandas concat dataframe\n",
    "y_full_train = np.concatenate([y_train, y_val]) # Numpy concat target vector\n",
    "\n",
    "# Resetting index\n",
    "df_full_train = df_full_train.reset_index(drop=True)\n",
    "\n",
    "# Getting feature matrix X\n",
    "X_full_train = prepare_X(df_full_train)\n",
    "\n",
    "# Train the final model with Tuning\n",
    "w_0, w = train_linear_regression_reg(X_full_train, y_full_train, 0.001)\n",
    "\n",
    "# Applying model to test data\n",
    "X_test = prepare_X(df_test)\n",
    "y_pred = w_0 + X_test.dot(w)\n",
    " \n",
    "score = rmse(y_test, y_pred)\n",
    "\n",
    "print(\"RMSE on the test dataset: \", score)"
   ]
  },
  {
   "cell_type": "markdown",
   "id": "2fb85dbd-f513-414b-b994-4d705c8f4e73",
   "metadata": {},
   "source": [
    "__Example of Using the model:__"
   ]
  },
  {
   "cell_type": "code",
   "execution_count": 27,
   "id": "99123a3f-ce5f-48db-8dd5-cf2c23d7fb1d",
   "metadata": {},
   "outputs": [
    {
     "data": {
      "text/plain": [
       "{'engine_displacement': 230.0,\n",
       " 'horsepower': 173.0,\n",
       " 'vehicle_weight': 4127.579993441064,\n",
       " 'model_year': 2006.0}"
      ]
     },
     "execution_count": 27,
     "metadata": {},
     "output_type": "execute_result"
    }
   ],
   "source": [
    "rand_example = df_test.iloc[786].to_dict()\n",
    "rand_example"
   ]
  },
  {
   "cell_type": "code",
   "execution_count": 28,
   "id": "5871fddd-ff5d-4084-a08a-4b8a800e0067",
   "metadata": {},
   "outputs": [
    {
     "name": "stdout",
     "output_type": "stream",
     "text": [
      "Predicted Fuel Efficency MPG 10.046836601802248\n",
      "Actual Fuel Efficency MPG of that record from the test dataset 9.195477247174264\n"
     ]
    }
   ],
   "source": [
    "X_test = prepare_X(pd.DataFrame([rand_example]))[0]\n",
    "y_pred = w_0 + X_test.dot(w)\n",
    "predicted_fuel_efficiency_mpg = np.expm1(y_pred)\n",
    "print('Predicted Fuel Efficency MPG', predicted_fuel_efficiency_mpg)\n",
    "print('Actual Fuel Efficency MPG of that record from the test dataset', np.expm1(y_test[786]))"
   ]
  },
  {
   "cell_type": "code",
   "execution_count": null,
   "id": "69bbb92a-6829-4412-8306-dcc1f5fe6235",
   "metadata": {},
   "outputs": [],
   "source": []
  }
 ],
 "metadata": {
  "kernelspec": {
   "display_name": "Python 3 (ipykernel)",
   "language": "python",
   "name": "python3"
  },
  "language_info": {
   "codemirror_mode": {
    "name": "ipython",
    "version": 3
   },
   "file_extension": ".py",
   "mimetype": "text/x-python",
   "name": "python",
   "nbconvert_exporter": "python",
   "pygments_lexer": "ipython3",
   "version": "3.12.1"
  }
 },
 "nbformat": 4,
 "nbformat_minor": 5
}
